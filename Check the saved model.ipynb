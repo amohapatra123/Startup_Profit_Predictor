{
 "cells": [
  {
   "cell_type": "markdown",
   "metadata": {},
   "source": [
    "# Checking the model"
   ]
  },
  {
   "cell_type": "code",
   "execution_count": 1,
   "metadata": {},
   "outputs": [],
   "source": [
    "import pickle\n",
    "import numpy as np\n",
    "import pandas as pd"
   ]
  },
  {
   "cell_type": "code",
   "execution_count": 2,
   "metadata": {},
   "outputs": [],
   "source": [
    "model = open(\"MyModel\",\"rb\")\n",
    "ready_model = pickle.load(model)"
   ]
  },
  {
   "cell_type": "code",
   "execution_count": 7,
   "metadata": {},
   "outputs": [
    {
     "name": "stdout",
     "output_type": "stream",
     "text": [
      "Enter the amount spent on R&D : 100000\n",
      "Enter the amount spent on Administration : 20000\n",
      "Enter the amount spent on marketing : 45000\n",
      "Enter the state where the startup is located (New York,Florida,California) : California\n"
     ]
    }
   ],
   "source": [
    "R_and_D = float(input(\"Enter the amount spent on R&D : \"))\n",
    "Administration = float(input(\"Enter the amount spent on Administration : \"))\n",
    "Marketing = float(input(\"Enter the amount spent on marketing : \"))\n",
    "State = input(\"Enter the state where the startup is located (New York,Florida,California) : \")"
   ]
  },
  {
   "cell_type": "code",
   "execution_count": 8,
   "metadata": {},
   "outputs": [],
   "source": [
    "df = pd.DataFrame(columns = ['R&D Spend','Administration','Marketing Spend','State'],\n",
    "                  data = [[R_and_D,Administration,Marketing,State]])"
   ]
  },
  {
   "cell_type": "code",
   "execution_count": 9,
   "metadata": {},
   "outputs": [
    {
     "data": {
      "text/plain": [
       "122206.03000559709"
      ]
     },
     "execution_count": 9,
     "metadata": {},
     "output_type": "execute_result"
    }
   ],
   "source": [
    "ready_model.predict(df)[0]"
   ]
  },
  {
   "cell_type": "raw",
   "metadata": {},
   "source": []
  }
 ],
 "metadata": {
  "kernelspec": {
   "display_name": "Python 3",
   "language": "python",
   "name": "python3"
  },
  "language_info": {
   "codemirror_mode": {
    "name": "ipython",
    "version": 3
   },
   "file_extension": ".py",
   "mimetype": "text/x-python",
   "name": "python",
   "nbconvert_exporter": "python",
   "pygments_lexer": "ipython3",
   "version": "3.7.6"
  }
 },
 "nbformat": 4,
 "nbformat_minor": 4
}
